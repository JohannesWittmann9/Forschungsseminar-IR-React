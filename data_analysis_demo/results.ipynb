{
 "cells": [
  {
   "cell_type": "code",
   "execution_count": null,
   "metadata": {},
   "outputs": [],
   "source": [
    "! pip install pymongo\n",
    "! pip install matplotlib seaborn pandas"
   ]
  },
  {
   "cell_type": "code",
   "execution_count": 67,
   "metadata": {},
   "outputs": [],
   "source": [
    "%matplotlib inline\n",
    "import pandas as pd\n",
    "import seaborn as sns\n",
    "import matplotlib.pyplot as plt\n",
    "import bson, json\n",
    "import os"
   ]
  },
  {
   "cell_type": "markdown",
   "metadata": {},
   "source": [
    "### Method definition"
   ]
  },
  {
   "cell_type": "code",
   "execution_count": 2,
   "metadata": {},
   "outputs": [],
   "source": [
    "# Convert all bson files to csv files\n",
    "def bson_to_csv(input_folder, output_folder):\n",
    "    # Ensure output folder exists\n",
    "    if not os.path.exists(output_folder):\n",
    "        os.makedirs(output_folder)\n",
    "\n",
    "    # Loop through each file in the input folder\n",
    "    for filename in os.listdir(input_folder):\n",
    "        if filename.endswith(\".bson\"):\n",
    "            # Construct full file paths\n",
    "            input_filepath = os.path.join(input_folder, filename)\n",
    "            output_filename = filename.replace(\".bson\", \".csv\")\n",
    "            output_filepath = os.path.join(output_folder, output_filename)\n",
    "\n",
    "            \"\"\" @author: vicervin\n",
    "                Python3.5 \n",
    "                Requires: pandas, pymongo (bson comes from this)\n",
    "                input: bson file \n",
    "                output: csv file with same name\n",
    "            \"\"\"\n",
    "            # Read BSON file\n",
    "            with open(input_filepath, 'rb') as f:\n",
    "                data = bson.decode_all(f.read())\n",
    "\n",
    "            # Convert BSON data to DataFrame\n",
    "            df = pd.DataFrame(data)\n",
    "\n",
    "            # Save DataFrame to CSV\n",
    "            try:\n",
    "                df.to_csv(output_filepath, index=False, sep = ',')\n",
    "                print(\"Data has been successfully converted\")\n",
    "            except:\n",
    "                print(\"An exception occurred\")"
   ]
  },
  {
   "cell_type": "code",
   "execution_count": null,
   "metadata": {},
   "outputs": [],
   "source": [
    "# bson_to_csv(bson, csv)"
   ]
  },
  {
   "cell_type": "code",
   "execution_count": 3,
   "metadata": {},
   "outputs": [],
   "source": [
    "# Convert bson file to dataframe\n",
    "def bson_to_dataframe(filename):\n",
    "    with open(f'./bson/{filename}.bson', 'rb') as f:\n",
    "        data = bson.decode_all(f.read())\n",
    "        df = pd.DataFrame(data)\n",
    "    return df"
   ]
  },
  {
   "cell_type": "code",
   "execution_count": 82,
   "metadata": {},
   "outputs": [],
   "source": [
    "# Convert json file to dataframe\n",
    "def json_to_dataframe(filename):\n",
    "    with open(f'./json/{filename}.json', 'rb') as f:\n",
    "        data = json.load(f)\n",
    "        df = pd.DataFrame(data)\n",
    "    return df"
   ]
  },
  {
   "cell_type": "code",
   "execution_count": 4,
   "metadata": {},
   "outputs": [],
   "source": [
    "# Calculate duration \n",
    "'''\n",
    "Title: Calculate Time Difference Between Two Pandas Columns in Hours and Minutes\n",
    "Author: cottontail\n",
    "Date: Feb 16, 2023\n",
    "Availability: https://stackoverflow.com/questions/22923775/calculate-time-difference-between-two-pandas-columns-in-hours-and-minutes\n",
    "'''\n",
    "def cal_total_time(start_time, end_time):\n",
    "    start_time = pd.to_datetime(start_time)\n",
    "    end_time = pd.to_datetime(end_time)\n",
    "    duration = end_time - start_time\n",
    "    duration_readable = \"{:02}:{:02}:{:02}\".format(int(duration.seconds / 3600), int((duration.seconds % 3600) / 60), int(duration.seconds % 60))\n",
    "\n",
    "    return duration_readable"
   ]
  },
  {
   "cell_type": "code",
   "execution_count": 5,
   "metadata": {},
   "outputs": [],
   "source": [
    "# Extract results of surveys\n",
    "def extract_survey_results(dataframe):\n",
    "    results = dataframe['results']\n",
    "\n",
    "    '''\n",
    "    Title: Convert Pandas Series to Dict in Python (with code)\n",
    "    Author: Riddhima Agarwal\n",
    "    Date: Jun 10, 2023\n",
    "    Availability: https://favtutor.com/blogs/pandas-series-to-dict#:~:text=A%20Pandas%20Series%20can%20be,the%20Pandas%20Series%20as%20values\n",
    "    '''\n",
    "    results_list = results.to_list()\n",
    "    results_df = pd.DataFrame(results_list)\n",
    "\n",
    "    dataframe_joined = dataframe.join(results_df)\n",
    "    columns = ['_id', 'results', 'createdAt', 'updatedAt', '__v']\n",
    "    dataframe = dataframe_joined.drop(columns=columns, axis=1)\n",
    "\n",
    "    return dataframe"
   ]
  },
  {
   "cell_type": "code",
   "execution_count": 26,
   "metadata": {},
   "outputs": [],
   "source": [
    "# Draw heatmap to show level of familiarity, complexity and satisfaction for each user and task\n",
    "def draw_heatmap(df, selected_column, cmap):\n",
    "    heatmap_data = df.pivot_table(index='user_id', columns='task_id', values=selected_column, fill_value=0)\n",
    "\n",
    "    plt.figure(figsize=(6, 3))\n",
    "    sns.heatmap(heatmap_data, annot=True, fmt=\".1f\", cmap=cmap, linewidths=.5)\n",
    "    plt.title(f'{selected_column} heatmap')\n",
    "    plt.xlabel('Task ID')\n",
    "    plt.ylabel('User ID')"
   ]
  },
  {
   "cell_type": "markdown",
   "metadata": {},
   "source": [
    "### Data Exploration"
   ]
  },
  {
   "cell_type": "code",
   "execution_count": 123,
   "metadata": {},
   "outputs": [],
   "source": [
    "users_df = bson_to_dataframe(\"users\")\n",
    "prestudies_df = bson_to_dataframe(\"prestudies\")\n",
    "pretasks_df = bson_to_dataframe(\"pretasks\")\n",
    "sessions_df = bson_to_dataframe(\"sessions\")\n",
    "searchinteractions_df = bson_to_dataframe(\"searchinteractions\")\n",
    "documents_df = bson_to_dataframe(\"documents\")\n",
    "chatinteractions_df = bson_to_dataframe(\"chatinteractions\")\n",
    "posttasks_df = bson_to_dataframe(\"posttasks\")\n",
    "poststudies_df = bson_to_dataframe(\"poststudies\")\n",
    "\n",
    "tasks_df = json_to_dataframe(\"tasks\")"
   ]
  },
  {
   "cell_type": "code",
   "execution_count": 19,
   "metadata": {},
   "outputs": [
    {
     "data": {
      "text/html": [
       "<div>\n",
       "<style scoped>\n",
       "    .dataframe tbody tr th:only-of-type {\n",
       "        vertical-align: middle;\n",
       "    }\n",
       "\n",
       "    .dataframe tbody tr th {\n",
       "        vertical-align: top;\n",
       "    }\n",
       "\n",
       "    .dataframe thead th {\n",
       "        text-align: right;\n",
       "    }\n",
       "</style>\n",
       "<table border=\"1\" class=\"dataframe\">\n",
       "  <thead>\n",
       "    <tr style=\"text-align: right;\">\n",
       "      <th></th>\n",
       "      <th>user_id</th>\n",
       "      <th>study_total_time</th>\n",
       "    </tr>\n",
       "  </thead>\n",
       "  <tbody>\n",
       "    <tr>\n",
       "      <th>0</th>\n",
       "      <td>HP1</td>\n",
       "      <td>00:18:35</td>\n",
       "    </tr>\n",
       "    <tr>\n",
       "      <th>1</th>\n",
       "      <td>HP2</td>\n",
       "      <td>00:17:29</td>\n",
       "    </tr>\n",
       "  </tbody>\n",
       "</table>\n",
       "</div>"
      ],
      "text/plain": [
       "  user_id study_total_time\n",
       "0     HP1         00:18:35\n",
       "1     HP2         00:17:29"
      ]
     },
     "execution_count": 19,
     "metadata": {},
     "output_type": "execute_result"
    }
   ],
   "source": [
    "users_df['study_total_time'] = users_df.apply(lambda row: cal_total_time(row['study_start_time'], row['study_end_time']), axis=1)\n",
    "users_df = users_df[['user_id', 'study_total_time']]\n",
    "users_df"
   ]
  },
  {
   "cell_type": "markdown",
   "metadata": {},
   "source": [
    "### Data Analysis"
   ]
  },
  {
   "cell_type": "markdown",
   "metadata": {},
   "source": [
    "#### System experience"
   ]
  },
  {
   "cell_type": "code",
   "execution_count": 20,
   "metadata": {},
   "outputs": [
    {
     "data": {
      "text/html": [
       "<div>\n",
       "<style scoped>\n",
       "    .dataframe tbody tr th:only-of-type {\n",
       "        vertical-align: middle;\n",
       "    }\n",
       "\n",
       "    .dataframe tbody tr th {\n",
       "        vertical-align: top;\n",
       "    }\n",
       "\n",
       "    .dataframe thead th {\n",
       "        text-align: right;\n",
       "    }\n",
       "</style>\n",
       "<table border=\"1\" class=\"dataframe\">\n",
       "  <thead>\n",
       "    <tr style=\"text-align: right;\">\n",
       "      <th></th>\n",
       "      <th>user_id</th>\n",
       "      <th>search-engine-usage</th>\n",
       "      <th>Ai-copilots-usage</th>\n",
       "      <th>onl-search-freq</th>\n",
       "      <th>ai-search-freq</th>\n",
       "    </tr>\n",
       "  </thead>\n",
       "  <tbody>\n",
       "    <tr>\n",
       "      <th>0</th>\n",
       "      <td>HP1</td>\n",
       "      <td>6</td>\n",
       "      <td>7</td>\n",
       "      <td>Multiple times per day</td>\n",
       "      <td>Multiple times per week</td>\n",
       "    </tr>\n",
       "    <tr>\n",
       "      <th>1</th>\n",
       "      <td>HP2</td>\n",
       "      <td>7</td>\n",
       "      <td>6</td>\n",
       "      <td>Multiple times per day</td>\n",
       "      <td>Multiple times per day</td>\n",
       "    </tr>\n",
       "  </tbody>\n",
       "</table>\n",
       "</div>"
      ],
      "text/plain": [
       "  user_id  search-engine-usage  Ai-copilots-usage         onl-search-freq  \\\n",
       "0     HP1                    6                  7  Multiple times per day   \n",
       "1     HP2                    7                  6  Multiple times per day   \n",
       "\n",
       "            ai-search-freq  \n",
       "0  Multiple times per week  \n",
       "1   Multiple times per day  "
      ]
     },
     "execution_count": 20,
     "metadata": {},
     "output_type": "execute_result"
    }
   ],
   "source": [
    "prestudies_df = extract_survey_results(prestudies_df)\n",
    "prestudies_df"
   ]
  },
  {
   "cell_type": "markdown",
   "metadata": {},
   "source": [
    "#### Pre-Task Data Analysis"
   ]
  },
  {
   "cell_type": "markdown",
   "metadata": {},
   "source": [
    "##### Topical Familiarity"
   ]
  },
  {
   "cell_type": "code",
   "execution_count": 21,
   "metadata": {},
   "outputs": [
    {
     "data": {
      "text/html": [
       "<div>\n",
       "<style scoped>\n",
       "    .dataframe tbody tr th:only-of-type {\n",
       "        vertical-align: middle;\n",
       "    }\n",
       "\n",
       "    .dataframe tbody tr th {\n",
       "        vertical-align: top;\n",
       "    }\n",
       "\n",
       "    .dataframe thead th {\n",
       "        text-align: right;\n",
       "    }\n",
       "</style>\n",
       "<table border=\"1\" class=\"dataframe\">\n",
       "  <thead>\n",
       "    <tr style=\"text-align: right;\">\n",
       "      <th></th>\n",
       "      <th>user_id</th>\n",
       "      <th>task_id</th>\n",
       "      <th>familiarity</th>\n",
       "      <th>complexity</th>\n",
       "    </tr>\n",
       "  </thead>\n",
       "  <tbody>\n",
       "    <tr>\n",
       "      <th>0</th>\n",
       "      <td>HP1</td>\n",
       "      <td>task1</td>\n",
       "      <td>3</td>\n",
       "      <td>2</td>\n",
       "    </tr>\n",
       "    <tr>\n",
       "      <th>1</th>\n",
       "      <td>HP1</td>\n",
       "      <td>task2</td>\n",
       "      <td>3</td>\n",
       "      <td>2</td>\n",
       "    </tr>\n",
       "    <tr>\n",
       "      <th>2</th>\n",
       "      <td>HP1</td>\n",
       "      <td>task3</td>\n",
       "      <td>3</td>\n",
       "      <td>6</td>\n",
       "    </tr>\n",
       "    <tr>\n",
       "      <th>3</th>\n",
       "      <td>HP1</td>\n",
       "      <td>task4</td>\n",
       "      <td>6</td>\n",
       "      <td>6</td>\n",
       "    </tr>\n",
       "    <tr>\n",
       "      <th>4</th>\n",
       "      <td>HP2</td>\n",
       "      <td>task1</td>\n",
       "      <td>5</td>\n",
       "      <td>2</td>\n",
       "    </tr>\n",
       "    <tr>\n",
       "      <th>5</th>\n",
       "      <td>HP2</td>\n",
       "      <td>task2</td>\n",
       "      <td>2</td>\n",
       "      <td>2</td>\n",
       "    </tr>\n",
       "    <tr>\n",
       "      <th>6</th>\n",
       "      <td>HP2</td>\n",
       "      <td>task3</td>\n",
       "      <td>3</td>\n",
       "      <td>6</td>\n",
       "    </tr>\n",
       "    <tr>\n",
       "      <th>7</th>\n",
       "      <td>HP2</td>\n",
       "      <td>task4</td>\n",
       "      <td>4</td>\n",
       "      <td>6</td>\n",
       "    </tr>\n",
       "  </tbody>\n",
       "</table>\n",
       "</div>"
      ],
      "text/plain": [
       "  user_id task_id  familiarity  complexity\n",
       "0     HP1   task1            3           2\n",
       "1     HP1   task2            3           2\n",
       "2     HP1   task3            3           6\n",
       "3     HP1   task4            6           6\n",
       "4     HP2   task1            5           2\n",
       "5     HP2   task2            2           2\n",
       "6     HP2   task3            3           6\n",
       "7     HP2   task4            4           6"
      ]
     },
     "execution_count": 21,
     "metadata": {},
     "output_type": "execute_result"
    }
   ],
   "source": [
    "pretasks_df = extract_survey_results(pretasks_df)\n",
    "pretasks_df"
   ]
  },
  {
   "cell_type": "code",
   "execution_count": 22,
   "metadata": {},
   "outputs": [
    {
     "data": {
      "image/png": "[encoded data removed]",
      "text/plain": [
       "<Figure size 432x216 with 2 Axes>"
      ]
     },
     "metadata": {
      "needs_background": "light"
     },
     "output_type": "display_data"
    }
   ],
   "source": [
    "familiarity_heatmap = draw_heatmap(df=pretasks_df, selected_column='familiarity', cmap='YlGnBu')"
   ]
  },
  {
   "cell_type": "code",
   "execution_count": 23,
   "metadata": {},
   "outputs": [
    {
     "data": {
      "image/png": "[encoded data removed]",
      "text/plain": [
       "<Figure size 432x216 with 2 Axes>"
      ]
     },
     "metadata": {
      "needs_background": "light"
     },
     "output_type": "display_data"
    }
   ],
   "source": [
    "pre_complexity_heatmap = draw_heatmap(df=pretasks_df, selected_column='complexity', cmap='BuPu')"
   ]
  },
  {
   "cell_type": "markdown",
   "metadata": {},
   "source": [
    "#### Post-Task Data Analysis"
   ]
  },
  {
   "cell_type": "code",
   "execution_count": 24,
   "metadata": {},
   "outputs": [
    {
     "data": {
      "text/html": [
       "<div>\n",
       "<style scoped>\n",
       "    .dataframe tbody tr th:only-of-type {\n",
       "        vertical-align: middle;\n",
       "    }\n",
       "\n",
       "    .dataframe tbody tr th {\n",
       "        vertical-align: top;\n",
       "    }\n",
       "\n",
       "    .dataframe thead th {\n",
       "        text-align: right;\n",
       "    }\n",
       "</style>\n",
       "<table border=\"1\" class=\"dataframe\">\n",
       "  <thead>\n",
       "    <tr style=\"text-align: right;\">\n",
       "      <th></th>\n",
       "      <th>user_id</th>\n",
       "      <th>task_id</th>\n",
       "      <th>answer</th>\n",
       "      <th>complexity-rate</th>\n",
       "      <th>satisfaction-rate</th>\n",
       "      <th>attention</th>\n",
       "    </tr>\n",
       "  </thead>\n",
       "  <tbody>\n",
       "    <tr>\n",
       "      <th>0</th>\n",
       "      <td>HP1</td>\n",
       "      <td>task1</td>\n",
       "      <td>Smoking, Being overweight, Lack of physical ac...</td>\n",
       "      <td>1</td>\n",
       "      <td>6</td>\n",
       "      <td>Okay</td>\n",
       "    </tr>\n",
       "    <tr>\n",
       "      <th>1</th>\n",
       "      <td>HP1</td>\n",
       "      <td>task2</td>\n",
       "      <td>Fire Ants</td>\n",
       "      <td>2</td>\n",
       "      <td>7</td>\n",
       "      <td>Okay</td>\n",
       "    </tr>\n",
       "    <tr>\n",
       "      <th>2</th>\n",
       "      <td>HP1</td>\n",
       "      <td>task3</td>\n",
       "      <td>aspartame: popular artificial sweetener used ...</td>\n",
       "      <td>6</td>\n",
       "      <td>6</td>\n",
       "      <td>Okay</td>\n",
       "    </tr>\n",
       "    <tr>\n",
       "      <th>3</th>\n",
       "      <td>HP1</td>\n",
       "      <td>task4</td>\n",
       "      <td>Disadvantages of Fossil Fuels: Land degradatio...</td>\n",
       "      <td>6</td>\n",
       "      <td>6</td>\n",
       "      <td>Okay</td>\n",
       "    </tr>\n",
       "    <tr>\n",
       "      <th>4</th>\n",
       "      <td>HP2</td>\n",
       "      <td>task1</td>\n",
       "      <td>Not getting enough exercise, Drinking too much...</td>\n",
       "      <td>2</td>\n",
       "      <td>6</td>\n",
       "      <td>Okay</td>\n",
       "    </tr>\n",
       "    <tr>\n",
       "      <th>5</th>\n",
       "      <td>HP2</td>\n",
       "      <td>task2</td>\n",
       "      <td>fire ants, bulldog ants</td>\n",
       "      <td>1</td>\n",
       "      <td>7</td>\n",
       "      <td>Okay</td>\n",
       "    </tr>\n",
       "    <tr>\n",
       "      <th>6</th>\n",
       "      <td>HP2</td>\n",
       "      <td>task3</td>\n",
       "      <td>Sodium benzoate: Prolong the shelf life of foo...</td>\n",
       "      <td>7</td>\n",
       "      <td>5</td>\n",
       "      <td>Okay</td>\n",
       "    </tr>\n",
       "    <tr>\n",
       "      <th>7</th>\n",
       "      <td>HP2</td>\n",
       "      <td>task4</td>\n",
       "      <td>drawbacks of Fossil fuels: Air pollution, Wate...</td>\n",
       "      <td>7</td>\n",
       "      <td>6</td>\n",
       "      <td>Okay</td>\n",
       "    </tr>\n",
       "  </tbody>\n",
       "</table>\n",
       "</div>"
      ],
      "text/plain": [
       "  user_id task_id                                             answer  \\\n",
       "0     HP1   task1  Smoking, Being overweight, Lack of physical ac...   \n",
       "1     HP1   task2                                          Fire Ants   \n",
       "2     HP1   task3   aspartame: popular artificial sweetener used ...   \n",
       "3     HP1   task4  Disadvantages of Fossil Fuels: Land degradatio...   \n",
       "4     HP2   task1  Not getting enough exercise, Drinking too much...   \n",
       "5     HP2   task2                            fire ants, bulldog ants   \n",
       "6     HP2   task3  Sodium benzoate: Prolong the shelf life of foo...   \n",
       "7     HP2   task4  drawbacks of Fossil fuels: Air pollution, Wate...   \n",
       "\n",
       "   complexity-rate  satisfaction-rate attention  \n",
       "0                1                  6      Okay  \n",
       "1                2                  7      Okay  \n",
       "2                6                  6      Okay  \n",
       "3                6                  6      Okay  \n",
       "4                2                  6      Okay  \n",
       "5                1                  7      Okay  \n",
       "6                7                  5      Okay  \n",
       "7                7                  6      Okay  "
      ]
     },
     "execution_count": 24,
     "metadata": {},
     "output_type": "execute_result"
    }
   ],
   "source": [
    "posttasks_df = extract_survey_results(posttasks_df)\n",
    "posttasks_df"
   ]
  },
  {
   "cell_type": "markdown",
   "metadata": {},
   "source": [
    "##### Task complexity ratings"
   ]
  },
  {
   "cell_type": "code",
   "execution_count": 29,
   "metadata": {},
   "outputs": [
    {
     "data": {
      "image/png": "[encoded data removed]",
      "text/plain": [
       "<Figure size 432x216 with 2 Axes>"
      ]
     },
     "metadata": {
      "needs_background": "light"
     },
     "output_type": "display_data"
    }
   ],
   "source": [
    "post_complexity_heatmap = draw_heatmap(df=posttasks_df, selected_column='complexity-rate', cmap='Blues')"
   ]
  },
  {
   "cell_type": "markdown",
   "metadata": {},
   "source": [
    "##### Satisfaction ratings"
   ]
  },
  {
   "cell_type": "code",
   "execution_count": 30,
   "metadata": {},
   "outputs": [
    {
     "data": {
      "image/png": "[encoded data removed]",
      "text/plain": [
       "<Figure size 432x216 with 2 Axes>"
      ]
     },
     "metadata": {
      "needs_background": "light"
     },
     "output_type": "display_data"
    }
   ],
   "source": [
    "satisfaction_heatmap = draw_heatmap(df=posttasks_df, selected_column='satisfaction-rate', cmap='Greens')"
   ]
  },
  {
   "cell_type": "markdown",
   "metadata": {},
   "source": [
    "##### Answers for evaluation"
   ]
  },
  {
   "cell_type": "code",
   "execution_count": 33,
   "metadata": {},
   "outputs": [
    {
     "data": {
      "text/html": [
       "<div>\n",
       "<style scoped>\n",
       "    .dataframe tbody tr th:only-of-type {\n",
       "        vertical-align: middle;\n",
       "    }\n",
       "\n",
       "    .dataframe tbody tr th {\n",
       "        vertical-align: top;\n",
       "    }\n",
       "\n",
       "    .dataframe thead th {\n",
       "        text-align: right;\n",
       "    }\n",
       "</style>\n",
       "<table border=\"1\" class=\"dataframe\">\n",
       "  <thead>\n",
       "    <tr style=\"text-align: right;\">\n",
       "      <th></th>\n",
       "      <th>user_id</th>\n",
       "      <th>task_id</th>\n",
       "      <th>answer</th>\n",
       "    </tr>\n",
       "  </thead>\n",
       "  <tbody>\n",
       "    <tr>\n",
       "      <th>0</th>\n",
       "      <td>HP1</td>\n",
       "      <td>task1</td>\n",
       "      <td>Smoking, Being overweight, Lack of physical ac...</td>\n",
       "    </tr>\n",
       "    <tr>\n",
       "      <th>1</th>\n",
       "      <td>HP1</td>\n",
       "      <td>task2</td>\n",
       "      <td>Fire Ants</td>\n",
       "    </tr>\n",
       "    <tr>\n",
       "      <th>2</th>\n",
       "      <td>HP1</td>\n",
       "      <td>task3</td>\n",
       "      <td>aspartame: popular artificial sweetener used ...</td>\n",
       "    </tr>\n",
       "    <tr>\n",
       "      <th>3</th>\n",
       "      <td>HP1</td>\n",
       "      <td>task4</td>\n",
       "      <td>Disadvantages of Fossil Fuels: Land degradatio...</td>\n",
       "    </tr>\n",
       "    <tr>\n",
       "      <th>4</th>\n",
       "      <td>HP2</td>\n",
       "      <td>task1</td>\n",
       "      <td>Not getting enough exercise, Drinking too much...</td>\n",
       "    </tr>\n",
       "    <tr>\n",
       "      <th>5</th>\n",
       "      <td>HP2</td>\n",
       "      <td>task2</td>\n",
       "      <td>fire ants, bulldog ants</td>\n",
       "    </tr>\n",
       "    <tr>\n",
       "      <th>6</th>\n",
       "      <td>HP2</td>\n",
       "      <td>task3</td>\n",
       "      <td>Sodium benzoate: Prolong the shelf life of foo...</td>\n",
       "    </tr>\n",
       "    <tr>\n",
       "      <th>7</th>\n",
       "      <td>HP2</td>\n",
       "      <td>task4</td>\n",
       "      <td>drawbacks of Fossil fuels: Air pollution, Wate...</td>\n",
       "    </tr>\n",
       "  </tbody>\n",
       "</table>\n",
       "</div>"
      ],
      "text/plain": [
       "  user_id task_id                                             answer\n",
       "0     HP1   task1  Smoking, Being overweight, Lack of physical ac...\n",
       "1     HP1   task2                                          Fire Ants\n",
       "2     HP1   task3   aspartame: popular artificial sweetener used ...\n",
       "3     HP1   task4  Disadvantages of Fossil Fuels: Land degradatio...\n",
       "4     HP2   task1  Not getting enough exercise, Drinking too much...\n",
       "5     HP2   task2                            fire ants, bulldog ants\n",
       "6     HP2   task3  Sodium benzoate: Prolong the shelf life of foo...\n",
       "7     HP2   task4  drawbacks of Fossil fuels: Air pollution, Wate..."
      ]
     },
     "execution_count": 33,
     "metadata": {},
     "output_type": "execute_result"
    }
   ],
   "source": [
    "answers_data = posttasks_df[['user_id', 'task_id', 'answer']]\n",
    "answers_data"
   ]
  },
  {
   "cell_type": "code",
   "execution_count": 46,
   "metadata": {},
   "outputs": [
    {
     "data": {
      "text/plain": [
       "' aspartame: popular artificial sweetener used to improve the taste of sodas and low calorie or sugar-free foods.\\n folic acid (a synthetic form of folate) are commonly added to foods because they’re more stable'"
      ]
     },
     "execution_count": 46,
     "metadata": {},
     "output_type": "execute_result"
    }
   ],
   "source": [
    "# get the answer for task 3 of user HP1 \n",
    "filtered_data = answers_data[(answers_data['user_id'] == 'HP1') & (answers_data['task_id'] == 'task3')]\n",
    "answer = filtered_data['answer'].values[0] if not filtered_data.empty else None\n",
    "answer"
   ]
  },
  {
   "cell_type": "markdown",
   "metadata": {},
   "source": [
    "#### Demografic Data"
   ]
  },
  {
   "cell_type": "code",
   "execution_count": 57,
   "metadata": {},
   "outputs": [
    {
     "data": {
      "text/html": [
       "<div>\n",
       "<style scoped>\n",
       "    .dataframe tbody tr th:only-of-type {\n",
       "        vertical-align: middle;\n",
       "    }\n",
       "\n",
       "    .dataframe tbody tr th {\n",
       "        vertical-align: top;\n",
       "    }\n",
       "\n",
       "    .dataframe thead th {\n",
       "        text-align: right;\n",
       "    }\n",
       "</style>\n",
       "<table border=\"1\" class=\"dataframe\">\n",
       "  <thead>\n",
       "    <tr style=\"text-align: right;\">\n",
       "      <th></th>\n",
       "      <th>user_id</th>\n",
       "      <th>gender</th>\n",
       "      <th>age</th>\n",
       "      <th>qualification</th>\n",
       "      <th>occupation</th>\n",
       "      <th>enjoy</th>\n",
       "      <th>Vp-stunden</th>\n",
       "      <th>matrikel-nr</th>\n",
       "    </tr>\n",
       "  </thead>\n",
       "  <tbody>\n",
       "    <tr>\n",
       "      <th>0</th>\n",
       "      <td>HP1</td>\n",
       "      <td>Female</td>\n",
       "      <td>24</td>\n",
       "      <td>High school diploma or equivalent degree</td>\n",
       "      <td>Student</td>\n",
       "      <td>Yes, it's very interesting</td>\n",
       "      <td>True</td>\n",
       "      <td>abc12344</td>\n",
       "    </tr>\n",
       "    <tr>\n",
       "      <th>1</th>\n",
       "      <td>HP2</td>\n",
       "      <td>Male</td>\n",
       "      <td>23</td>\n",
       "      <td>Bachelor’s degree</td>\n",
       "      <td>Engineer</td>\n",
       "      <td>Yes, the tasks are quite difficult but interes...</td>\n",
       "      <td>False</td>\n",
       "      <td>NaN</td>\n",
       "    </tr>\n",
       "  </tbody>\n",
       "</table>\n",
       "</div>"
      ],
      "text/plain": [
       "  user_id  gender  age                             qualification occupation  \\\n",
       "0     HP1  Female   24  High school diploma or equivalent degree    Student   \n",
       "1     HP2    Male   23                         Bachelor’s degree   Engineer   \n",
       "\n",
       "                                               enjoy  Vp-stunden matrikel-nr  \n",
       "0                        Yes, it's very interesting         True    abc12344  \n",
       "1  Yes, the tasks are quite difficult but interes...       False         NaN  "
      ]
     },
     "execution_count": 57,
     "metadata": {},
     "output_type": "execute_result"
    }
   ],
   "source": [
    "poststudies_df = extract_survey_results(poststudies_df)\n",
    "poststudies_df"
   ]
  },
  {
   "cell_type": "code",
   "execution_count": 64,
   "metadata": {},
   "outputs": [],
   "source": [
    "# filter only participants who need VP-Stunden\n",
    "VP_data = poststudies_df[(poststudies_df['Vp-stunden'] == True)]\n",
    "matrikel_nr_list = VP_data['matrikel-nr']\n",
    "matrikel_nr_list\n",
    "\n",
    "'''\n",
    "Title: Writing a list to a file with Python, with newlines\n",
    "Author: Alex Martelli\n",
    "Date: May 22, 2009\n",
    "Availability: https://stackoverflow.com/questions/899103/writing-a-list-to-a-file-with-python-with-newlines\n",
    "'''\n",
    "with open('matrikel_nr_list.txt', 'w') as f:\n",
    "    for line in matrikel_nr_list:\n",
    "        f.write(f\"{line}\\n\")"
   ]
  },
  {
   "cell_type": "markdown",
   "metadata": {},
   "source": [
    "#### Interaction Data Analysis"
   ]
  },
  {
   "cell_type": "code",
   "execution_count": 124,
   "metadata": {},
   "outputs": [
    {
     "data": {
      "text/html": [
       "<div>\n",
       "<style scoped>\n",
       "    .dataframe tbody tr th:only-of-type {\n",
       "        vertical-align: middle;\n",
       "    }\n",
       "\n",
       "    .dataframe tbody tr th {\n",
       "        vertical-align: top;\n",
       "    }\n",
       "\n",
       "    .dataframe thead th {\n",
       "        text-align: right;\n",
       "    }\n",
       "</style>\n",
       "<table border=\"1\" class=\"dataframe\">\n",
       "  <thead>\n",
       "    <tr style=\"text-align: right;\">\n",
       "      <th></th>\n",
       "      <th>title</th>\n",
       "      <th>category</th>\n",
       "      <th>desc</th>\n",
       "      <th>task_id</th>\n",
       "    </tr>\n",
       "  </thead>\n",
       "  <tbody>\n",
       "    <tr>\n",
       "      <th>0</th>\n",
       "      <td>Task 1:</td>\n",
       "      <td>simple</td>\n",
       "      <td>Your brother complains of constant headaches. ...</td>\n",
       "      <td>task1</td>\n",
       "    </tr>\n",
       "    <tr>\n",
       "      <th>1</th>\n",
       "      <td>Task 2:</td>\n",
       "      <td>simple</td>\n",
       "      <td>A friend has just sent an email from an Intern...</td>\n",
       "      <td>task2</td>\n",
       "    </tr>\n",
       "    <tr>\n",
       "      <th>2</th>\n",
       "      <td>Task 3:</td>\n",
       "      <td>complex</td>\n",
       "      <td>You recently heard about the book \"Fast Food N...</td>\n",
       "      <td>task3</td>\n",
       "    </tr>\n",
       "    <tr>\n",
       "      <th>3</th>\n",
       "      <td>Task 4:</td>\n",
       "      <td>complex</td>\n",
       "      <td>Friends are planning to build a new house and ...</td>\n",
       "      <td>task4</td>\n",
       "    </tr>\n",
       "  </tbody>\n",
       "</table>\n",
       "</div>"
      ],
      "text/plain": [
       "      title category                                               desc  \\\n",
       "0  Task 1:    simple  Your brother complains of constant headaches. ...   \n",
       "1  Task 2:    simple  A friend has just sent an email from an Intern...   \n",
       "2  Task 3:   complex  You recently heard about the book \"Fast Food N...   \n",
       "3  Task 4:   complex  Friends are planning to build a new house and ...   \n",
       "\n",
       "  task_id  \n",
       "0   task1  \n",
       "1   task2  \n",
       "2   task3  \n",
       "3   task4  "
      ]
     },
     "execution_count": 124,
     "metadata": {},
     "output_type": "execute_result"
    }
   ],
   "source": [
    "tasks_df.rename(columns={'id':'task_id'}, inplace=True)\n",
    "tasks_df"
   ]
  },
  {
   "cell_type": "code",
   "execution_count": 125,
   "metadata": {},
   "outputs": [
    {
     "data": {
      "text/html": [
       "<div>\n",
       "<style scoped>\n",
       "    .dataframe tbody tr th:only-of-type {\n",
       "        vertical-align: middle;\n",
       "    }\n",
       "\n",
       "    .dataframe tbody tr th {\n",
       "        vertical-align: top;\n",
       "    }\n",
       "\n",
       "    .dataframe thead th {\n",
       "        text-align: right;\n",
       "    }\n",
       "</style>\n",
       "<table border=\"1\" class=\"dataframe\">\n",
       "  <thead>\n",
       "    <tr style=\"text-align: right;\">\n",
       "      <th></th>\n",
       "      <th>session_id</th>\n",
       "      <th>user_id</th>\n",
       "      <th>task_id</th>\n",
       "      <th>session_total_time</th>\n",
       "    </tr>\n",
       "  </thead>\n",
       "  <tbody>\n",
       "    <tr>\n",
       "      <th>0</th>\n",
       "      <td>acfc9aab-4689-42be-b36e-8a8e42d797fb</td>\n",
       "      <td>HP1</td>\n",
       "      <td>task1</td>\n",
       "      <td>00:02:23</td>\n",
       "    </tr>\n",
       "    <tr>\n",
       "      <th>1</th>\n",
       "      <td>64ad6db3-e360-4d63-82e1-a8722b8e99d2</td>\n",
       "      <td>HP1</td>\n",
       "      <td>task2</td>\n",
       "      <td>00:02:04</td>\n",
       "    </tr>\n",
       "    <tr>\n",
       "      <th>2</th>\n",
       "      <td>bd189b9f-18da-448f-8cca-02ee19bf8761</td>\n",
       "      <td>HP1</td>\n",
       "      <td>task3</td>\n",
       "      <td>00:01:03</td>\n",
       "    </tr>\n",
       "    <tr>\n",
       "      <th>3</th>\n",
       "      <td>db1d406b-6953-4d92-ba49-8244f586a1f9</td>\n",
       "      <td>HP1</td>\n",
       "      <td>task4</td>\n",
       "      <td>00:04:42</td>\n",
       "    </tr>\n",
       "    <tr>\n",
       "      <th>4</th>\n",
       "      <td>f2e28367-0f4f-42be-8d6f-71afa9f77f28</td>\n",
       "      <td>HP2</td>\n",
       "      <td>task1</td>\n",
       "      <td>00:02:10</td>\n",
       "    </tr>\n",
       "    <tr>\n",
       "      <th>5</th>\n",
       "      <td>cb9dcc10-ec41-4f4a-8238-eb1356dfed18</td>\n",
       "      <td>HP2</td>\n",
       "      <td>task2</td>\n",
       "      <td>00:02:13</td>\n",
       "    </tr>\n",
       "    <tr>\n",
       "      <th>6</th>\n",
       "      <td>1650f09d-8ef5-4745-8e0c-f460b4fd432c</td>\n",
       "      <td>HP2</td>\n",
       "      <td>task3</td>\n",
       "      <td>00:01:41</td>\n",
       "    </tr>\n",
       "    <tr>\n",
       "      <th>7</th>\n",
       "      <td>dfc539c7-cf3d-4bee-92df-7a6e92e42074</td>\n",
       "      <td>HP2</td>\n",
       "      <td>task4</td>\n",
       "      <td>00:03:10</td>\n",
       "    </tr>\n",
       "  </tbody>\n",
       "</table>\n",
       "</div>"
      ],
      "text/plain": [
       "                             session_id user_id task_id session_total_time\n",
       "0  acfc9aab-4689-42be-b36e-8a8e42d797fb     HP1   task1           00:02:23\n",
       "1  64ad6db3-e360-4d63-82e1-a8722b8e99d2     HP1   task2           00:02:04\n",
       "2  bd189b9f-18da-448f-8cca-02ee19bf8761     HP1   task3           00:01:03\n",
       "3  db1d406b-6953-4d92-ba49-8244f586a1f9     HP1   task4           00:04:42\n",
       "4  f2e28367-0f4f-42be-8d6f-71afa9f77f28     HP2   task1           00:02:10\n",
       "5  cb9dcc10-ec41-4f4a-8238-eb1356dfed18     HP2   task2           00:02:13\n",
       "6  1650f09d-8ef5-4745-8e0c-f460b4fd432c     HP2   task3           00:01:41\n",
       "7  dfc539c7-cf3d-4bee-92df-7a6e92e42074     HP2   task4           00:03:10"
      ]
     },
     "execution_count": 125,
     "metadata": {},
     "output_type": "execute_result"
    }
   ],
   "source": [
    "sessions_df['session_total_time'] = sessions_df.apply(lambda row: cal_total_time(row['session_start_time'], row['session_end_time']), axis=1)\n",
    "columns = ['_id', '__v', 'session_start_time', 'session_end_time']\n",
    "sessions_df = sessions_df.drop(columns=columns, axis=1)\n",
    "sessions_df"
   ]
  },
  {
   "cell_type": "markdown",
   "metadata": {},
   "source": [
    "##### Time overall"
   ]
  },
  {
   "cell_type": "code",
   "execution_count": 129,
   "metadata": {},
   "outputs": [],
   "source": [
    "sessions_merged_df= pd.merge(sessions_df, tasks_df, on='task_id', how='left')\n",
    "sessions_merged_df = sessions_merged_df.drop(['title'], axis=1)"
   ]
  },
  {
   "cell_type": "code",
   "execution_count": 130,
   "metadata": {},
   "outputs": [
    {
     "data": {
      "text/html": [
       "<div>\n",
       "<style scoped>\n",
       "    .dataframe tbody tr th:only-of-type {\n",
       "        vertical-align: middle;\n",
       "    }\n",
       "\n",
       "    .dataframe tbody tr th {\n",
       "        vertical-align: top;\n",
       "    }\n",
       "\n",
       "    .dataframe thead th {\n",
       "        text-align: right;\n",
       "    }\n",
       "</style>\n",
       "<table border=\"1\" class=\"dataframe\">\n",
       "  <thead>\n",
       "    <tr style=\"text-align: right;\">\n",
       "      <th></th>\n",
       "      <th>session_id</th>\n",
       "      <th>user_id</th>\n",
       "      <th>task_id</th>\n",
       "      <th>session_total_time</th>\n",
       "      <th>category</th>\n",
       "      <th>desc</th>\n",
       "    </tr>\n",
       "  </thead>\n",
       "  <tbody>\n",
       "    <tr>\n",
       "      <th>0</th>\n",
       "      <td>acfc9aab-4689-42be-b36e-8a8e42d797fb</td>\n",
       "      <td>HP1</td>\n",
       "      <td>task1</td>\n",
       "      <td>00:02:23</td>\n",
       "      <td>simple</td>\n",
       "      <td>Your brother complains of constant headaches. ...</td>\n",
       "    </tr>\n",
       "    <tr>\n",
       "      <th>1</th>\n",
       "      <td>64ad6db3-e360-4d63-82e1-a8722b8e99d2</td>\n",
       "      <td>HP1</td>\n",
       "      <td>task2</td>\n",
       "      <td>00:02:04</td>\n",
       "      <td>simple</td>\n",
       "      <td>A friend has just sent an email from an Intern...</td>\n",
       "    </tr>\n",
       "    <tr>\n",
       "      <th>2</th>\n",
       "      <td>bd189b9f-18da-448f-8cca-02ee19bf8761</td>\n",
       "      <td>HP1</td>\n",
       "      <td>task3</td>\n",
       "      <td>00:01:03</td>\n",
       "      <td>complex</td>\n",
       "      <td>You recently heard about the book \"Fast Food N...</td>\n",
       "    </tr>\n",
       "    <tr>\n",
       "      <th>3</th>\n",
       "      <td>db1d406b-6953-4d92-ba49-8244f586a1f9</td>\n",
       "      <td>HP1</td>\n",
       "      <td>task4</td>\n",
       "      <td>00:04:42</td>\n",
       "      <td>complex</td>\n",
       "      <td>Friends are planning to build a new house and ...</td>\n",
       "    </tr>\n",
       "    <tr>\n",
       "      <th>4</th>\n",
       "      <td>f2e28367-0f4f-42be-8d6f-71afa9f77f28</td>\n",
       "      <td>HP2</td>\n",
       "      <td>task1</td>\n",
       "      <td>00:02:10</td>\n",
       "      <td>simple</td>\n",
       "      <td>Your brother complains of constant headaches. ...</td>\n",
       "    </tr>\n",
       "    <tr>\n",
       "      <th>5</th>\n",
       "      <td>cb9dcc10-ec41-4f4a-8238-eb1356dfed18</td>\n",
       "      <td>HP2</td>\n",
       "      <td>task2</td>\n",
       "      <td>00:02:13</td>\n",
       "      <td>simple</td>\n",
       "      <td>A friend has just sent an email from an Intern...</td>\n",
       "    </tr>\n",
       "    <tr>\n",
       "      <th>6</th>\n",
       "      <td>1650f09d-8ef5-4745-8e0c-f460b4fd432c</td>\n",
       "      <td>HP2</td>\n",
       "      <td>task3</td>\n",
       "      <td>00:01:41</td>\n",
       "      <td>complex</td>\n",
       "      <td>You recently heard about the book \"Fast Food N...</td>\n",
       "    </tr>\n",
       "    <tr>\n",
       "      <th>7</th>\n",
       "      <td>dfc539c7-cf3d-4bee-92df-7a6e92e42074</td>\n",
       "      <td>HP2</td>\n",
       "      <td>task4</td>\n",
       "      <td>00:03:10</td>\n",
       "      <td>complex</td>\n",
       "      <td>Friends are planning to build a new house and ...</td>\n",
       "    </tr>\n",
       "  </tbody>\n",
       "</table>\n",
       "</div>"
      ],
      "text/plain": [
       "                             session_id user_id task_id session_total_time  \\\n",
       "0  acfc9aab-4689-42be-b36e-8a8e42d797fb     HP1   task1           00:02:23   \n",
       "1  64ad6db3-e360-4d63-82e1-a8722b8e99d2     HP1   task2           00:02:04   \n",
       "2  bd189b9f-18da-448f-8cca-02ee19bf8761     HP1   task3           00:01:03   \n",
       "3  db1d406b-6953-4d92-ba49-8244f586a1f9     HP1   task4           00:04:42   \n",
       "4  f2e28367-0f4f-42be-8d6f-71afa9f77f28     HP2   task1           00:02:10   \n",
       "5  cb9dcc10-ec41-4f4a-8238-eb1356dfed18     HP2   task2           00:02:13   \n",
       "6  1650f09d-8ef5-4745-8e0c-f460b4fd432c     HP2   task3           00:01:41   \n",
       "7  dfc539c7-cf3d-4bee-92df-7a6e92e42074     HP2   task4           00:03:10   \n",
       "\n",
       "  category                                               desc  \n",
       "0   simple  Your brother complains of constant headaches. ...  \n",
       "1   simple  A friend has just sent an email from an Intern...  \n",
       "2  complex  You recently heard about the book \"Fast Food N...  \n",
       "3  complex  Friends are planning to build a new house and ...  \n",
       "4   simple  Your brother complains of constant headaches. ...  \n",
       "5   simple  A friend has just sent an email from an Intern...  \n",
       "6  complex  You recently heard about the book \"Fast Food N...  \n",
       "7  complex  Friends are planning to build a new house and ...  "
      ]
     },
     "execution_count": 130,
     "metadata": {},
     "output_type": "execute_result"
    }
   ],
   "source": [
    "sessions_merged_df"
   ]
  },
  {
   "cell_type": "code",
   "execution_count": null,
   "metadata": {},
   "outputs": [],
   "source": []
  }
 ],
 "metadata": {
  "kernelspec": {
   "display_name": "base",
   "language": "python",
   "name": "python3"
  },
  "language_info": {
   "codemirror_mode": {
    "name": "ipython",
    "version": 3
   },
   "file_extension": ".py",
   "mimetype": "text/x-python",
   "name": "python",
   "nbconvert_exporter": "python",
   "pygments_lexer": "ipython3",
   "version": "3.9.7"
  }
 },
 "nbformat": 4,
 "nbformat_minor": 2
}
